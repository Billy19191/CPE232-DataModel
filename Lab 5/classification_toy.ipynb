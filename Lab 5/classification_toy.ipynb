{
  "cells": [
    {
      "cell_type": "markdown",
      "metadata": {
        "id": "AVepL6Ga6CU_"
      },
      "source": [
        "**Ratchanon Tarawan 65070503464**"
      ]
    },
    {
      "cell_type": "markdown",
      "metadata": {
        "id": "EFmN8YzQs-zG"
      },
      "source": [
        "# Lab 3: Introducing Classification\n",
        "\n",
        "Objectives:\n",
        "- To gain hands-on experience classifying small dataset\n",
        "- To implement concepts related to Decision Tree classifier (i.e. Entropy, Information Gain), along with the Decision Tree algorithm"
      ]
    },
    {
      "cell_type": "code",
      "execution_count": 16,
      "metadata": {
        "colab": {
          "base_uri": "https://localhost:8080/",
          "height": 483
        },
        "id": "BhFhB6Glq41H",
        "outputId": "9197fe8d-9816-444b-aeb7-56e1bfb98b44"
      },
      "outputs": [
        {
          "data": {
            "text/html": [
              "<div>\n",
              "<style scoped>\n",
              "    .dataframe tbody tr th:only-of-type {\n",
              "        vertical-align: middle;\n",
              "    }\n",
              "\n",
              "    .dataframe tbody tr th {\n",
              "        vertical-align: top;\n",
              "    }\n",
              "\n",
              "    .dataframe thead th {\n",
              "        text-align: right;\n",
              "    }\n",
              "</style>\n",
              "<table border=\"1\" class=\"dataframe\">\n",
              "  <thead>\n",
              "    <tr style=\"text-align: right;\">\n",
              "      <th></th>\n",
              "      <th>age</th>\n",
              "      <th>income</th>\n",
              "      <th>student</th>\n",
              "      <th>credit rating</th>\n",
              "      <th>buys computer</th>\n",
              "    </tr>\n",
              "  </thead>\n",
              "  <tbody>\n",
              "    <tr>\n",
              "      <th>0</th>\n",
              "      <td>&lt;=30</td>\n",
              "      <td>high</td>\n",
              "      <td>no</td>\n",
              "      <td>fair</td>\n",
              "      <td>no</td>\n",
              "    </tr>\n",
              "    <tr>\n",
              "      <th>1</th>\n",
              "      <td>&lt;=30</td>\n",
              "      <td>high</td>\n",
              "      <td>no</td>\n",
              "      <td>excellent</td>\n",
              "      <td>no</td>\n",
              "    </tr>\n",
              "    <tr>\n",
              "      <th>2</th>\n",
              "      <td>31-40</td>\n",
              "      <td>high</td>\n",
              "      <td>no</td>\n",
              "      <td>fair</td>\n",
              "      <td>yes</td>\n",
              "    </tr>\n",
              "    <tr>\n",
              "      <th>3</th>\n",
              "      <td>&gt;40</td>\n",
              "      <td>medium</td>\n",
              "      <td>no</td>\n",
              "      <td>fair</td>\n",
              "      <td>yes</td>\n",
              "    </tr>\n",
              "    <tr>\n",
              "      <th>4</th>\n",
              "      <td>&gt;40</td>\n",
              "      <td>low</td>\n",
              "      <td>yes</td>\n",
              "      <td>fair</td>\n",
              "      <td>yes</td>\n",
              "    </tr>\n",
              "    <tr>\n",
              "      <th>5</th>\n",
              "      <td>&gt;40</td>\n",
              "      <td>low</td>\n",
              "      <td>yes</td>\n",
              "      <td>excellent</td>\n",
              "      <td>no</td>\n",
              "    </tr>\n",
              "    <tr>\n",
              "      <th>6</th>\n",
              "      <td>31-40</td>\n",
              "      <td>low</td>\n",
              "      <td>yes</td>\n",
              "      <td>excellent</td>\n",
              "      <td>yes</td>\n",
              "    </tr>\n",
              "    <tr>\n",
              "      <th>7</th>\n",
              "      <td>&lt;=30</td>\n",
              "      <td>medium</td>\n",
              "      <td>no</td>\n",
              "      <td>fair</td>\n",
              "      <td>no</td>\n",
              "    </tr>\n",
              "    <tr>\n",
              "      <th>8</th>\n",
              "      <td>&lt;=30</td>\n",
              "      <td>low</td>\n",
              "      <td>yes</td>\n",
              "      <td>fair</td>\n",
              "      <td>yes</td>\n",
              "    </tr>\n",
              "    <tr>\n",
              "      <th>9</th>\n",
              "      <td>&gt;40</td>\n",
              "      <td>medium</td>\n",
              "      <td>yes</td>\n",
              "      <td>fair</td>\n",
              "      <td>yes</td>\n",
              "    </tr>\n",
              "    <tr>\n",
              "      <th>10</th>\n",
              "      <td>&lt;=30</td>\n",
              "      <td>medium</td>\n",
              "      <td>yes</td>\n",
              "      <td>excellent</td>\n",
              "      <td>yes</td>\n",
              "    </tr>\n",
              "    <tr>\n",
              "      <th>11</th>\n",
              "      <td>31-40</td>\n",
              "      <td>medium</td>\n",
              "      <td>no</td>\n",
              "      <td>excellent</td>\n",
              "      <td>yes</td>\n",
              "    </tr>\n",
              "    <tr>\n",
              "      <th>12</th>\n",
              "      <td>31-40</td>\n",
              "      <td>high</td>\n",
              "      <td>yes</td>\n",
              "      <td>fair</td>\n",
              "      <td>yes</td>\n",
              "    </tr>\n",
              "    <tr>\n",
              "      <th>13</th>\n",
              "      <td>&gt;40</td>\n",
              "      <td>medium</td>\n",
              "      <td>no</td>\n",
              "      <td>excellent</td>\n",
              "      <td>no</td>\n",
              "    </tr>\n",
              "  </tbody>\n",
              "</table>\n",
              "</div>"
            ],
            "text/plain": [
              "      age  income student credit rating buys computer\n",
              "0    <=30    high      no          fair            no\n",
              "1    <=30    high      no     excellent            no\n",
              "2   31-40    high      no          fair           yes\n",
              "3     >40  medium      no          fair           yes\n",
              "4     >40     low     yes          fair           yes\n",
              "5     >40     low     yes     excellent            no\n",
              "6   31-40     low     yes     excellent           yes\n",
              "7    <=30  medium      no          fair            no\n",
              "8    <=30     low     yes          fair           yes\n",
              "9     >40  medium     yes          fair           yes\n",
              "10   <=30  medium     yes     excellent           yes\n",
              "11  31-40  medium      no     excellent           yes\n",
              "12  31-40    high     yes          fair           yes\n",
              "13    >40  medium      no     excellent            no"
            ]
          },
          "execution_count": 16,
          "metadata": {},
          "output_type": "execute_result"
        }
      ],
      "source": [
        "import pandas as pd\n",
        "import numpy as np\n",
        "\n",
        "# Read the data\n",
        "df = pd.read_csv('toy_data.csv')\n",
        "df"
      ]
    },
    {
      "cell_type": "code",
      "execution_count": 8,
      "metadata": {
        "colab": {
          "base_uri": "https://localhost:8080/"
        },
        "id": "PsHwbe-eszwh",
        "outputId": "f4292996-caf5-415c-a5f8-2e39b8188ce9"
      },
      "outputs": [
        {
          "name": "stdout",
          "output_type": "stream",
          "text": [
            "<class 'pandas.core.frame.DataFrame'>\n",
            "RangeIndex: 14 entries, 0 to 13\n",
            "Data columns (total 5 columns):\n",
            " #   Column         Non-Null Count  Dtype \n",
            "---  ------         --------------  ----- \n",
            " 0   age            14 non-null     object\n",
            " 1   income         14 non-null     object\n",
            " 2   student        14 non-null     object\n",
            " 3   credit rating  14 non-null     object\n",
            " 4   buys computer  14 non-null     object\n",
            "dtypes: object(5)\n",
            "memory usage: 688.0+ bytes\n",
            "None\n"
          ]
        }
      ],
      "source": [
        "print(df.info())"
      ]
    },
    {
      "cell_type": "code",
      "execution_count": 9,
      "metadata": {
        "id": "fs2mw4Da5XU2"
      },
      "outputs": [],
      "source": [
        "target = df['buys computer'].value_counts()\n",
        "income = df['income'].value_counts()\n",
        "tar_yes = target.yes\n",
        "tar_no = target.no\n",
        "tar_all = tar_yes + tar_no"
      ]
    },
    {
      "cell_type": "code",
      "execution_count": 10,
      "metadata": {
        "colab": {
          "base_uri": "https://localhost:8080/"
        },
        "id": "KKAeSmLH5XU2",
        "outputId": "6cb4da72-946b-4832-9a37-e9cf613420ed"
      },
      "outputs": [
        {
          "name": "stdout",
          "output_type": "stream",
          "text": [
            "0.9402859586706311\n"
          ]
        }
      ],
      "source": [
        "Target = -(tar_yes/tar_all)*np.log2(tar_yes/tar_all) - (tar_no/tar_all)*np.log2(tar_no/tar_all)\n",
        "print(Target)"
      ]
    },
    {
      "cell_type": "code",
      "execution_count": 11,
      "metadata": {
        "id": "Eq-W41di5XU3"
      },
      "outputs": [],
      "source": [
        "income = df['income'].value_counts()\n",
        "in_high = income.high\n",
        "in_medium = income.medium\n",
        "in_low = income.low\n",
        "\n",
        "high_count = df[df['income'] == 'high']['buys computer'].value_counts()\n",
        "medium_count = df[df['income'] == 'medium']['buys computer'].value_counts()\n",
        "low_count = df[df['income'] == 'low']['buys computer'].value_counts()\n",
        "#print(high_count)"
      ]
    },
    {
      "cell_type": "code",
      "execution_count": 12,
      "metadata": {
        "id": "8df0BIpB5XU3"
      },
      "outputs": [],
      "source": [
        "entro_income_high = -(high_count.yes/in_high)*np.log2(high_count.yes/in_high) - (high_count.no/in_high)*np.log2(high_count.no/in_high)\n",
        "entro_income_medium = -(medium_count.yes/in_medium)*np.log2(medium_count.yes/in_medium) - (medium_count.no/in_medium)*np.log2(medium_count.no/in_medium)\n",
        "entro_income_low = -(low_count.yes/in_low)*np.log2(low_count.yes/in_low) - (low_count.no/in_low)*np.log2(low_count.no/in_low)\n"
      ]
    },
    {
      "cell_type": "code",
      "execution_count": 13,
      "metadata": {
        "colab": {
          "base_uri": "https://localhost:8080/"
        },
        "id": "69yXOr2E5XU3",
        "outputId": "fab22da0-039d-455f-923d-9ed7dc2c1472"
      },
      "outputs": [
        {
          "name": "stdout",
          "output_type": "stream",
          "text": [
            "0.9110633930116763\n"
          ]
        }
      ],
      "source": [
        "entro_income = (in_high/tar_all)*entro_income_high + (in_medium/tar_all)*entro_income_medium + (in_low/tar_all)*entro_income_low\n",
        "print(entro_income)"
      ]
    },
    {
      "cell_type": "code",
      "execution_count": 14,
      "metadata": {
        "id": "fWwP3Nkz56eM"
      },
      "outputs": [],
      "source": [
        "gain = Target - entro_income"
      ]
    },
    {
      "cell_type": "code",
      "execution_count": 15,
      "metadata": {
        "colab": {
          "base_uri": "https://localhost:8080/"
        },
        "id": "c3ikWCcn5XU3",
        "outputId": "588a81f4-0a1c-4401-b5ef-35bc2e11a4ac"
      },
      "outputs": [
        {
          "name": "stdout",
          "output_type": "stream",
          "text": [
            "Gain (Income) 0.02922256565895487\n"
          ]
        }
      ],
      "source": [
        "print('Gain (Income)' , gain)\n"
      ]
    }
  ],
  "metadata": {
    "colab": {
      "provenance": []
    },
    "kernelspec": {
      "display_name": "Python 3",
      "name": "python3"
    },
    "language_info": {
      "codemirror_mode": {
        "name": "ipython",
        "version": 3
      },
      "file_extension": ".py",
      "mimetype": "text/x-python",
      "name": "python",
      "nbconvert_exporter": "python",
      "pygments_lexer": "ipython3",
      "version": "3.9.6"
    }
  },
  "nbformat": 4,
  "nbformat_minor": 0
}
