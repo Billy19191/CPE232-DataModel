{
  "cells": [
    {
      "cell_type": "markdown",
      "source": [
        "**Ratchanon Tarawan 65070503464**"
      ],
      "metadata": {
        "id": "hmuK2AAi_IKy"
      }
    },
    {
      "cell_type": "markdown",
      "metadata": {
        "id": "6S_huFxkomb0"
      },
      "source": [
        "# Lab 4: Data Visualization and EDA"
      ]
    },
    {
      "cell_type": "markdown",
      "metadata": {
        "id": "tpRD0-3xomb-"
      },
      "source": [
        "Objectives:\n",
        "- To gain practice in creating various data visualizations\n",
        "- To encourage students to perform EDA on the required dataset"
      ]
    },
    {
      "cell_type": "markdown",
      "metadata": {
        "id": "3Wergd6Bomb_"
      },
      "source": [
        "***"
      ]
    },
    {
      "cell_type": "markdown",
      "metadata": {
        "id": "OCnV2tI2omb_"
      },
      "source": [
        "1. Load all Superstore datasets.\n",
        "\n",
        "*Note: The same dataset used in Lab 3*"
      ]
    },
    {
      "cell_type": "code",
      "execution_count": 1,
      "metadata": {
        "id": "61EAOLbFomcA"
      },
      "outputs": [],
      "source": [
        "# Write your code here\n",
        "import pandas as pd\n",
        "import numpy as np\n",
        "import matplotlib.pyplot as plt\n",
        "df1 = pd.read_csv(r\"superstore_order.csv\")\n",
        "df2 = pd.read_csv(r\"superstore_people.csv\")\n",
        "df3 = pd.read_csv(r\"superstore_return.csv\")\n"
      ]
    },
    {
      "cell_type": "markdown",
      "metadata": {
        "id": "pjVMHSv0omcC"
      },
      "source": [
        "2. Determine shape of each dataset (print out the results as well)."
      ]
    },
    {
      "cell_type": "code",
      "execution_count": 2,
      "metadata": {
        "colab": {
          "base_uri": "https://localhost:8080/"
        },
        "id": "ygHPUgbQomcD",
        "outputId": "97a5ad93-9ac4-466b-bc62-2a380b5e3e95"
      },
      "outputs": [
        {
          "output_type": "stream",
          "name": "stdout",
          "text": [
            "(8880, 21) (4, 2) (296, 2)\n"
          ]
        }
      ],
      "source": [
        "df1.shape\n",
        "df2.shape\n",
        "df3.shape\n",
        "print(df1.shape, df2.shape, df3.shape)"
      ]
    },
    {
      "cell_type": "markdown",
      "metadata": {
        "id": "1AmcfuvqomcE"
      },
      "source": [
        "3. Show information of the dataset.\n"
      ]
    },
    {
      "cell_type": "code",
      "execution_count": 3,
      "metadata": {
        "colab": {
          "base_uri": "https://localhost:8080/"
        },
        "id": "lmpOAuyEomcE",
        "outputId": "06536464-31ee-43ef-c55a-7977cc6dd8a6"
      },
      "outputs": [
        {
          "output_type": "stream",
          "name": "stdout",
          "text": [
            "<bound method DataFrame.info of       Row ID        Order ID  Order Date   Ship Date       Ship Mode  \\\n",
            "0          1  CA-2016-152156  08/11/2016  11/11/2016    Second Class   \n",
            "1          2  CA-2016-152156  08/11/2016  11/11/2016    Second Class   \n",
            "2          3  CA-2016-138688  12/06/2016  16/06/2016    Second Class   \n",
            "3          4  US-2015-108966  11/10/2015  18/10/2015  Standard Class   \n",
            "4          5  US-2015-108966  11/10/2015  18/10/2015  Standard Class   \n",
            "...      ...             ...         ...         ...             ...   \n",
            "8875    8876  US-2016-141264  13/08/2016  19/08/2016  Standard Class   \n",
            "8876    8877  US-2016-141264  13/08/2016  19/08/2016  Standard Class   \n",
            "8877    8878  CA-2017-126928  17/09/2017  23/09/2017  Standard Class   \n",
            "8878    8879  CA-2017-126928  17/09/2017  23/09/2017  Standard Class   \n",
            "8879    8880  US-2015-107944  23/03/2015  25/03/2015     First Class   \n",
            "\n",
            "     Customer ID    Customer Name    Segment        Country             City  \\\n",
            "0       CG-12520      Claire Gute   Consumer  United States        Henderson   \n",
            "1       CG-12520      Claire Gute   Consumer  United States        Henderson   \n",
            "2       DV-13045  Darrin Van Huff  Corporate  United States      Los Angeles   \n",
            "3       SO-20335    Sean ODonnell   Consumer  United States  Fort Lauderdale   \n",
            "4       SO-20335    Sean ODonnell   Consumer  United States  Fort Lauderdale   \n",
            "...          ...              ...        ...            ...              ...   \n",
            "8875    CT-11995     Carol Triggs   Consumer  United States           Irving   \n",
            "8876    CT-11995     Carol Triggs   Consumer  United States           Irving   \n",
            "8877    GZ-14470    Gary Zandusky   Consumer  United States       Morristown   \n",
            "8878    GZ-14470    Gary Zandusky   Consumer  United States       Morristown   \n",
            "8879    AM-10360   Alice McCarthy  Corporate  United States      Los Angeles   \n",
            "\n",
            "      ... Postal Code   Region       Product ID         Category Sub-Category  \\\n",
            "0     ...       42420    South  FUR-BO-10001798        Furniture    Bookcases   \n",
            "1     ...       42420    South  FUR-CH-10000454        Furniture       Chairs   \n",
            "2     ...       90036     West  OFF-LA-10000240  Office Supplies       Labels   \n",
            "3     ...       33311    South  FUR-TA-10000577        Furniture       Tables   \n",
            "4     ...       33311    South  OFF-ST-10000760  Office Supplies      Storage   \n",
            "...   ...         ...      ...              ...              ...          ...   \n",
            "8875  ...       75061  Central  OFF-SU-10003505  Office Supplies     Supplies   \n",
            "8876  ...       75061  Central  OFF-AP-10002534  Office Supplies   Appliances   \n",
            "8877  ...        7960     East  TEC-MA-10004626       Technology     Machines   \n",
            "8878  ...        7960     East  OFF-ST-10000615  Office Supplies      Storage   \n",
            "8879  ...       90008     West  OFF-PA-10000659  Office Supplies        Paper   \n",
            "\n",
            "                                           Product Name     Sales  Quantity  \\\n",
            "0                     Bush Somerset Collection Bookcase  261.9600         2   \n",
            "1     Hon Deluxe Fabric Upholstered Stacking Chairs ...  731.9400         3   \n",
            "2     Self-Adhesive Address Labels for Typewriters b...   14.6200         2   \n",
            "3         Bretford CR4500 Series Slim Rectangular Table  957.5775         5   \n",
            "4                         Eldon Fold N Roll Cart System   22.3680         2   \n",
            "...                                                 ...       ...       ...   \n",
            "8875                     Premier Electric Letter Opener  185.3760         2   \n",
            "8876  3.6 Cubic Foot Counter Height Office Refrigerator   58.9240         1   \n",
            "8877  Lexmark 20R1285 X6650 Wireless All-in-One Printer  480.0000         4   \n",
            "8878  SimpliFile Personal File Black Granite 15w x 6...   34.0500         3   \n",
            "8879  TOPS Carbonless Receipt Book Four 2-3/4 x 7-1/...  192.7200        11   \n",
            "\n",
            "      Discount    Profit  \n",
            "0         0.00   41.9136  \n",
            "1         0.00  219.5820  \n",
            "2         0.00    6.8714  \n",
            "3         0.45 -383.0310  \n",
            "4         0.20    2.5164  \n",
            "...        ...       ...  \n",
            "8875      0.20  -34.7580  \n",
            "8876      0.80 -153.2024  \n",
            "8877      0.00  225.6000  \n",
            "8878      0.00    9.5340  \n",
            "8879      0.00   92.5056  \n",
            "\n",
            "[8880 rows x 21 columns]> <bound method DataFrame.info of               Person   Region\n",
            "0      Anna Andreadi     West\n",
            "1        Chuck Magee     East\n",
            "2     Kelly Williams  Central\n",
            "3  Cassandra Brandow    South> <bound method DataFrame.info of     Returned        Order ID\n",
            "0        Yes  CA-2017-153822\n",
            "1        Yes  CA-2017-129707\n",
            "2        Yes  CA-2014-152345\n",
            "3        Yes  CA-2015-156440\n",
            "4        Yes  US-2017-155999\n",
            "..       ...             ...\n",
            "291      Yes  CA-2015-101910\n",
            "292      Yes  CA-2017-156958\n",
            "293      Yes  CA-2016-105585\n",
            "294      Yes  CA-2016-148796\n",
            "295      Yes  CA-2015-149636\n",
            "\n",
            "[296 rows x 2 columns]>\n"
          ]
        }
      ],
      "source": [
        "# Write your code here (3.1)\n",
        "print(df1.info, df2.info, df3.info)"
      ]
    },
    {
      "cell_type": "markdown",
      "metadata": {
        "id": "BzyDa3qHomcG"
      },
      "source": [
        "4. Are there any missing values? If so, in which column?\n",
        "\n",
        "Ans: Nothing is missing."
      ]
    },
    {
      "cell_type": "markdown",
      "metadata": {
        "id": "ZRiEJEWKomcG"
      },
      "source": [
        "5.\n",
        "- 5.1 List unique segments\n",
        "- 5.2 List unique segments and their corresponding count\n",
        "- 5.3 Create a pie chart to demonstrate unique segments and their count\n",
        "- 5.4 Briefly describe what could be interpreted from this pie chart\n",
        "\n",
        "*Note: please create additional cells to answer 5.2 - 5.3*"
      ]
    },
    {
      "cell_type": "code",
      "execution_count": 4,
      "metadata": {
        "colab": {
          "base_uri": "https://localhost:8080/"
        },
        "id": "QDiS_AyNomcH",
        "outputId": "cf48e715-136c-4f5e-e1a3-8a522444be35"
      },
      "outputs": [
        {
          "output_type": "execute_result",
          "data": {
            "text/plain": [
              "array(['Consumer', 'Corporate', 'Home Office'], dtype=object)"
            ]
          },
          "metadata": {},
          "execution_count": 4
        }
      ],
      "source": [
        "# Write your code here (5.1)\n",
        "df1['Segment'].unique()\n"
      ]
    },
    {
      "cell_type": "code",
      "source": [
        "chart = df1['Segment'].value_counts()\n",
        "print(chart)"
      ],
      "metadata": {
        "colab": {
          "base_uri": "https://localhost:8080/"
        },
        "id": "i3HEeWlora74",
        "outputId": "0c415351-5cf7-4154-8ae2-76ee89899ad6"
      },
      "execution_count": 5,
      "outputs": [
        {
          "output_type": "stream",
          "name": "stdout",
          "text": [
            "Consumer       4613\n",
            "Corporate      2673\n",
            "Home Office    1594\n",
            "Name: Segment, dtype: int64\n"
          ]
        }
      ]
    },
    {
      "cell_type": "code",
      "source": [
        "y = np.array(chart)\n",
        "myLabels = df1['Segment'].unique()\n",
        "plt.pie(y, labels = myLabels, autopct='%.2f')\n",
        "plt.show()"
      ],
      "metadata": {
        "colab": {
          "base_uri": "https://localhost:8080/",
          "height": 406
        },
        "id": "WaJTKuR-uOtG",
        "outputId": "38fb96c3-7078-40cd-853f-c84a3ab2a258"
      },
      "execution_count": 6,
      "outputs": [
        {
          "output_type": "display_data",
          "data": {
            "text/plain": [
              "<Figure size 640x480 with 1 Axes>"
            ],
            "image/png": "[encoded data removed]"
          },
          "metadata": {}
        }
      ]
    },
    {
      "cell_type": "markdown",
      "metadata": {
        "id": "d46HbN1DomcI"
      },
      "source": [
        "Answer for the question 5.4\n",
        "\n",
        "Ans: You can estimates that order that is has significant to the superstore to manage the bussiness plan in the future."
      ]
    },
    {
      "cell_type": "markdown",
      "metadata": {
        "id": "-wRTodlZomcI"
      },
      "source": [
        "6.\n",
        "- 6.1 List unique states\n",
        "- 6.2 List top-10 unique states and their corresponding count\n",
        "- 6.3 Create a bar chart (vertical) to demonstrate the count of top-10 unique states\n",
        "- 6.4 Based on 6.2, also include the total sales of these states (show your result as a dataframe)\n",
        "- 6.5 Using the result from 6.4, if you were the owner of this superstore, what information could be interpreted from this result?\n",
        "\n",
        "*Note: please create additional cells to answer 6.2 - 6.4*"
      ]
    },
    {
      "cell_type": "code",
      "execution_count": 7,
      "metadata": {
        "id": "xsGJiDulomcJ"
      },
      "outputs": [],
      "source": [
        "# Write your code here (6.1)\n",
        "uniqueState = df1['State'].unique"
      ]
    },
    {
      "cell_type": "code",
      "source": [
        "top_states = df1['State'].value_counts().head(10)\n",
        "print(top_states)"
      ],
      "metadata": {
        "colab": {
          "base_uri": "https://localhost:8080/"
        },
        "id": "vxMqFlFQwI_A",
        "outputId": "714a6f15-b694-40e3-86a1-c7c1c2c1721c"
      },
      "execution_count": 8,
      "outputs": [
        {
          "output_type": "stream",
          "name": "stdout",
          "text": [
            "California        1754\n",
            "New York          1001\n",
            "Texas              860\n",
            "Pennsylvania       531\n",
            "Washington         452\n",
            "Illinois           427\n",
            "Ohio               396\n",
            "Florida            339\n",
            "Michigan           230\n",
            "North Carolina     229\n",
            "Name: State, dtype: int64\n"
          ]
        }
      ]
    },
    {
      "cell_type": "code",
      "source": [
        "state_names = top_states.index\n",
        "state_counts = top_states.values\n",
        "\n",
        "plt.bar(state_names, state_counts, color='maroon', width=0.5)\n",
        "plt.xlabel(\"States\")\n",
        "plt.ylabel(\"Count\")\n",
        "plt.title(\"Top 10 States and their Counts\")\n",
        "plt.xticks(rotation=45, ha='right')\n",
        "plt.tight_layout()\n",
        "plt.show()"
      ],
      "metadata": {
        "colab": {
          "base_uri": "https://localhost:8080/",
          "height": 487
        },
        "id": "JKR-3EM3wvoH",
        "outputId": "21433628-f68a-42a9-f047-dbcf1c484c68"
      },
      "execution_count": 9,
      "outputs": [
        {
          "output_type": "display_data",
          "data": {
            "text/plain": [
              "<Figure size 640x480 with 1 Axes>"
            ],
            "image/png": "[encoded data removed]"
          },
          "metadata": {}
        }
      ]
    },
    {
      "cell_type": "code",
      "source": [
        "#6.4\n",
        "\n",
        "total_sales = []\n",
        "for i in top_states.index:\n",
        "    sales_sum = df1[df1['State'] == i]['Sales'].sum()\n",
        "    total_sales.append(sales_sum)\n",
        "\n",
        "result_df = pd.DataFrame({\n",
        "    'State': state_names,\n",
        "    'Count': top_states.values,\n",
        "    'Total Sales': total_sales\n",
        "})\n",
        "\n",
        "print(result_df)\n"
      ],
      "metadata": {
        "colab": {
          "base_uri": "https://localhost:8080/"
        },
        "id": "X1AVXxRNyMZE",
        "outputId": "7aaf4351-8277-47b4-d60a-f69b37b75500"
      },
      "execution_count": 10,
      "outputs": [
        {
          "output_type": "stream",
          "name": "stdout",
          "text": [
            "            State  Count  Total Sales\n",
            "0      California   1754  399195.4555\n",
            "1        New York   1001  274866.8190\n",
            "2           Texas    860  147855.0282\n",
            "3    Pennsylvania    531  103852.5210\n",
            "4      Washington    452  124497.7780\n",
            "5        Illinois    427   71456.1780\n",
            "6            Ohio    396   67924.2140\n",
            "7         Florida    339   84083.0880\n",
            "8        Michigan    230   62147.6960\n",
            "9  North Carolina    229   49962.1580\n"
          ]
        }
      ]
    },
    {
      "cell_type": "markdown",
      "metadata": {
        "id": "wkC-U04komcK"
      },
      "source": [
        "Answer for the question 6.5\n",
        "\n",
        "Ans: You can see that most top 10 state that was order that product from superstore."
      ]
    },
    {
      "cell_type": "markdown",
      "metadata": {
        "id": "WDOT15gzomcK"
      },
      "source": [
        "7.\n",
        "- 7.1 List unique categories\n",
        "- 7.2 Create a bar chart (horizontal) to demonstrate the proportion of these categories\n",
        "- 7.3 Compute the ratio of these categories in percentage and print the results\n",
        "\n",
        "*Note: please create additional cells to answer 7.2 - 7.3*"
      ]
    },
    {
      "cell_type": "code",
      "execution_count": 11,
      "metadata": {
        "colab": {
          "base_uri": "https://localhost:8080/"
        },
        "id": "oywwmC4RomcL",
        "outputId": "a83ed805-9633-4444-ccdc-0a4a4d40ac0e"
      },
      "outputs": [
        {
          "output_type": "stream",
          "name": "stdout",
          "text": [
            "['Furniture' 'Office Supplies' 'Technology']\n"
          ]
        }
      ],
      "source": [
        "# Write your code here (7.1)\n",
        "uniqueCategory =df1['Category'].unique()\n",
        "print(uniqueCategory)"
      ]
    },
    {
      "cell_type": "code",
      "source": [
        "valueCategory = df1['Category'].value_counts()\n",
        "\n",
        "plt.barh(valueCategory.index, valueCategory.values, color='maroon')\n",
        "plt.xlabel(\"Count\")\n",
        "plt.ylabel(\"Category\")\n",
        "plt.title(\"Proportion of these categories\")\n",
        "plt.tight_layout()\n",
        "plt.show()"
      ],
      "metadata": {
        "colab": {
          "base_uri": "https://localhost:8080/",
          "height": 487
        },
        "id": "wieRkg1Hz1cU",
        "outputId": "fd82c1ae-1217-4f2a-ff25-b20a2e6fa39e"
      },
      "execution_count": 12,
      "outputs": [
        {
          "output_type": "display_data",
          "data": {
            "text/plain": [
              "<Figure size 640x480 with 1 Axes>"
            ],
            "image/png": "[encoded data removed]"
          },
          "metadata": {}
        }
      ]
    },
    {
      "cell_type": "code",
      "source": [
        "\n",
        "valueCategory = df1['Category'].value_counts()\n",
        "total_count = valueCategory.sum()\n",
        "\n",
        "category_percentages = (valueCategory / total_count) * 100\n",
        "\n",
        "print(\"Category Ratios (Percentage):\")\n",
        "print(category_percentages)\n"
      ],
      "metadata": {
        "colab": {
          "base_uri": "https://localhost:8080/"
        },
        "id": "WeCKXror1rBP",
        "outputId": "fe92bbab-a3bc-42f0-d509-dedb6f9168d7"
      },
      "execution_count": 13,
      "outputs": [
        {
          "output_type": "stream",
          "name": "stdout",
          "text": [
            "Category Ratios (Percentage):\n",
            "Office Supplies    60.360360\n",
            "Furniture          21.171171\n",
            "Technology         18.468468\n",
            "Name: Category, dtype: float64\n"
          ]
        }
      ]
    },
    {
      "cell_type": "markdown",
      "metadata": {
        "id": "7V8t5xGComcL"
      },
      "source": [
        "8. Update the type of all columns that contain dates to *datetime* and show information after an update."
      ]
    },
    {
      "cell_type": "code",
      "execution_count": 14,
      "metadata": {
        "colab": {
          "base_uri": "https://localhost:8080/",
          "height": 419
        },
        "id": "57zvPa2domcM",
        "outputId": "61a6fad0-b466-4baf-c72a-88c9160b179d"
      },
      "outputs": [
        {
          "output_type": "execute_result",
          "data": {
            "text/plain": [
              "     Order Date  Ship Date\n",
              "0    2016-11-08 2016-11-11\n",
              "1    2016-11-08 2016-11-11\n",
              "2    2016-06-12 2016-06-16\n",
              "3    2015-10-11 2015-10-18\n",
              "4    2015-10-11 2015-10-18\n",
              "...         ...        ...\n",
              "8875 2016-08-13 2016-08-19\n",
              "8876 2016-08-13 2016-08-19\n",
              "8877 2017-09-17 2017-09-23\n",
              "8878 2017-09-17 2017-09-23\n",
              "8879 2015-03-23 2015-03-25\n",
              "\n",
              "[8880 rows x 2 columns]"
            ],
            "text/html": [
              "\n",
              "  <div id=\"df-f4895064-f3e6-4df2-84cd-61fd1d10940f\" class=\"colab-df-container\">\n",
              "    <div>\n",
              "<style scoped>\n",
              "    .dataframe tbody tr th:only-of-type {\n",
              "        vertical-align: middle;\n",
              "    }\n",
              "\n",
              "    .dataframe tbody tr th {\n",
              "        vertical-align: top;\n",
              "    }\n",
              "\n",
              "    .dataframe thead th {\n",
              "        text-align: right;\n",
              "    }\n",
              "</style>\n",
              "<table border=\"1\" class=\"dataframe\">\n",
              "  <thead>\n",
              "    <tr style=\"text-align: right;\">\n",
              "      <th></th>\n",
              "      <th>Order Date</th>\n",
              "      <th>Ship Date</th>\n",
              "    </tr>\n",
              "  </thead>\n",
              "  <tbody>\n",
              "    <tr>\n",
              "      <th>0</th>\n",
              "      <td>2016-11-08</td>\n",
              "      <td>2016-11-11</td>\n",
              "    </tr>\n",
              "    <tr>\n",
              "      <th>1</th>\n",
              "      <td>2016-11-08</td>\n",
              "      <td>2016-11-11</td>\n",
              "    </tr>\n",
              "    <tr>\n",
              "      <th>2</th>\n",
              "      <td>2016-06-12</td>\n",
              "      <td>2016-06-16</td>\n",
              "    </tr>\n",
              "    <tr>\n",
              "      <th>3</th>\n",
              "      <td>2015-10-11</td>\n",
              "      <td>2015-10-18</td>\n",
              "    </tr>\n",
              "    <tr>\n",
              "      <th>4</th>\n",
              "      <td>2015-10-11</td>\n",
              "      <td>2015-10-18</td>\n",
              "    </tr>\n",
              "    <tr>\n",
              "      <th>...</th>\n",
              "      <td>...</td>\n",
              "      <td>...</td>\n",
              "    </tr>\n",
              "    <tr>\n",
              "      <th>8875</th>\n",
              "      <td>2016-08-13</td>\n",
              "      <td>2016-08-19</td>\n",
              "    </tr>\n",
              "    <tr>\n",
              "      <th>8876</th>\n",
              "      <td>2016-08-13</td>\n",
              "      <td>2016-08-19</td>\n",
              "    </tr>\n",
              "    <tr>\n",
              "      <th>8877</th>\n",
              "      <td>2017-09-17</td>\n",
              "      <td>2017-09-23</td>\n",
              "    </tr>\n",
              "    <tr>\n",
              "      <th>8878</th>\n",
              "      <td>2017-09-17</td>\n",
              "      <td>2017-09-23</td>\n",
              "    </tr>\n",
              "    <tr>\n",
              "      <th>8879</th>\n",
              "      <td>2015-03-23</td>\n",
              "      <td>2015-03-25</td>\n",
              "    </tr>\n",
              "  </tbody>\n",
              "</table>\n",
              "<p>8880 rows × 2 columns</p>\n",
              "</div>\n",
              "    <div class=\"colab-df-buttons\">\n",
              "\n",
              "  <div class=\"colab-df-container\">\n",
              "    <button class=\"colab-df-convert\" onclick=\"convertToInteractive('df-f4895064-f3e6-4df2-84cd-61fd1d10940f')\"\n",
              "            title=\"Convert this dataframe to an interactive table.\"\n",
              "            style=\"display:none;\">\n",
              "\n",
              "  <svg xmlns=\"http://www.w3.org/2000/svg\" height=\"24px\" viewBox=\"0 -960 960 960\">\n",
              "    <path d=\"M120-120v-720h720v720H120Zm60-500h600v-160H180v160Zm220 220h160v-160H400v160Zm0 220h160v-160H400v160ZM180-400h160v-160H180v160Zm440 0h160v-160H620v160ZM180-180h160v-160H180v160Zm440 0h160v-160H620v160Z\"/>\n",
              "  </svg>\n",
              "    </button>\n",
              "\n",
              "  <style>\n",
              "    .colab-df-container {\n",
              "      display:flex;\n",
              "      gap: 12px;\n",
              "    }\n",
              "\n",
              "    .colab-df-convert {\n",
              "      background-color: #E8F0FE;\n",
              "      border: none;\n",
              "      border-radius: 50%;\n",
              "      cursor: pointer;\n",
              "      display: none;\n",
              "      fill: #1967D2;\n",
              "      height: 32px;\n",
              "      padding: 0 0 0 0;\n",
              "      width: 32px;\n",
              "    }\n",
              "\n",
              "    .colab-df-convert:hover {\n",
              "      background-color: #E2EBFA;\n",
              "      box-shadow: 0px 1px 2px rgba(60, 64, 67, 0.3), 0px 1px 3px 1px rgba(60, 64, 67, 0.15);\n",
              "      fill: #174EA6;\n",
              "    }\n",
              "\n",
              "    .colab-df-buttons div {\n",
              "      margin-bottom: 4px;\n",
              "    }\n",
              "\n",
              "    [theme=dark] .colab-df-convert {\n",
              "      background-color: #3B4455;\n",
              "      fill: #D2E3FC;\n",
              "    }\n",
              "\n",
              "    [theme=dark] .colab-df-convert:hover {\n",
              "      background-color: #434B5C;\n",
              "      box-shadow: 0px 1px 3px 1px rgba(0, 0, 0, 0.15);\n",
              "      filter: drop-shadow(0px 1px 2px rgba(0, 0, 0, 0.3));\n",
              "      fill: #FFFFFF;\n",
              "    }\n",
              "  </style>\n",
              "\n",
              "    <script>\n",
              "      const buttonEl =\n",
              "        document.querySelector('#df-f4895064-f3e6-4df2-84cd-61fd1d10940f button.colab-df-convert');\n",
              "      buttonEl.style.display =\n",
              "        google.colab.kernel.accessAllowed ? 'block' : 'none';\n",
              "\n",
              "      async function convertToInteractive(key) {\n",
              "        const element = document.querySelector('#df-f4895064-f3e6-4df2-84cd-61fd1d10940f');\n",
              "        const dataTable =\n",
              "          await google.colab.kernel.invokeFunction('convertToInteractive',\n",
              "                                                    [key], {});\n",
              "        if (!dataTable) return;\n",
              "\n",
              "        const docLinkHtml = 'Like what you see? Visit the ' +\n",
              "          '<a target=\"_blank\" href=https://colab.research.google.com/notebooks/data_table.ipynb>data table notebook</a>'\n",
              "          + ' to learn more about interactive tables.';\n",
              "        element.innerHTML = '';\n",
              "        dataTable['output_type'] = 'display_data';\n",
              "        await google.colab.output.renderOutput(dataTable, element);\n",
              "        const docLink = document.createElement('div');\n",
              "        docLink.innerHTML = docLinkHtml;\n",
              "        element.appendChild(docLink);\n",
              "      }\n",
              "    </script>\n",
              "  </div>\n",
              "\n",
              "\n",
              "<div id=\"df-4c1769c9-e622-4afa-bff0-02292a5b33a4\">\n",
              "  <button class=\"colab-df-quickchart\" onclick=\"quickchart('df-4c1769c9-e622-4afa-bff0-02292a5b33a4')\"\n",
              "            title=\"Suggest charts\"\n",
              "            style=\"display:none;\">\n",
              "\n",
              "<svg xmlns=\"http://www.w3.org/2000/svg\" height=\"24px\"viewBox=\"0 0 24 24\"\n",
              "     width=\"24px\">\n",
              "    <g>\n",
              "        <path d=\"M19 3H5c-1.1 0-2 .9-2 2v14c0 1.1.9 2 2 2h14c1.1 0 2-.9 2-2V5c0-1.1-.9-2-2-2zM9 17H7v-7h2v7zm4 0h-2V7h2v10zm4 0h-2v-4h2v4z\"/>\n",
              "    </g>\n",
              "</svg>\n",
              "  </button>\n",
              "\n",
              "<style>\n",
              "  .colab-df-quickchart {\n",
              "      --bg-color: #E8F0FE;\n",
              "      --fill-color: #1967D2;\n",
              "      --hover-bg-color: #E2EBFA;\n",
              "      --hover-fill-color: #174EA6;\n",
              "      --disabled-fill-color: #AAA;\n",
              "      --disabled-bg-color: #DDD;\n",
              "  }\n",
              "\n",
              "  [theme=dark] .colab-df-quickchart {\n",
              "      --bg-color: #3B4455;\n",
              "      --fill-color: #D2E3FC;\n",
              "      --hover-bg-color: #434B5C;\n",
              "      --hover-fill-color: #FFFFFF;\n",
              "      --disabled-bg-color: #3B4455;\n",
              "      --disabled-fill-color: #666;\n",
              "  }\n",
              "\n",
              "  .colab-df-quickchart {\n",
              "    background-color: var(--bg-color);\n",
              "    border: none;\n",
              "    border-radius: 50%;\n",
              "    cursor: pointer;\n",
              "    display: none;\n",
              "    fill: var(--fill-color);\n",
              "    height: 32px;\n",
              "    padding: 0;\n",
              "    width: 32px;\n",
              "  }\n",
              "\n",
              "  .colab-df-quickchart:hover {\n",
              "    background-color: var(--hover-bg-color);\n",
              "    box-shadow: 0 1px 2px rgba(60, 64, 67, 0.3), 0 1px 3px 1px rgba(60, 64, 67, 0.15);\n",
              "    fill: var(--button-hover-fill-color);\n",
              "  }\n",
              "\n",
              "  .colab-df-quickchart-complete:disabled,\n",
              "  .colab-df-quickchart-complete:disabled:hover {\n",
              "    background-color: var(--disabled-bg-color);\n",
              "    fill: var(--disabled-fill-color);\n",
              "    box-shadow: none;\n",
              "  }\n",
              "\n",
              "  .colab-df-spinner {\n",
              "    border: 2px solid var(--fill-color);\n",
              "    border-color: transparent;\n",
              "    border-bottom-color: var(--fill-color);\n",
              "    animation:\n",
              "      spin 1s steps(1) infinite;\n",
              "  }\n",
              "\n",
              "  @keyframes spin {\n",
              "    0% {\n",
              "      border-color: transparent;\n",
              "      border-bottom-color: var(--fill-color);\n",
              "      border-left-color: var(--fill-color);\n",
              "    }\n",
              "    20% {\n",
              "      border-color: transparent;\n",
              "      border-left-color: var(--fill-color);\n",
              "      border-top-color: var(--fill-color);\n",
              "    }\n",
              "    30% {\n",
              "      border-color: transparent;\n",
              "      border-left-color: var(--fill-color);\n",
              "      border-top-color: var(--fill-color);\n",
              "      border-right-color: var(--fill-color);\n",
              "    }\n",
              "    40% {\n",
              "      border-color: transparent;\n",
              "      border-right-color: var(--fill-color);\n",
              "      border-top-color: var(--fill-color);\n",
              "    }\n",
              "    60% {\n",
              "      border-color: transparent;\n",
              "      border-right-color: var(--fill-color);\n",
              "    }\n",
              "    80% {\n",
              "      border-color: transparent;\n",
              "      border-right-color: var(--fill-color);\n",
              "      border-bottom-color: var(--fill-color);\n",
              "    }\n",
              "    90% {\n",
              "      border-color: transparent;\n",
              "      border-bottom-color: var(--fill-color);\n",
              "    }\n",
              "  }\n",
              "</style>\n",
              "\n",
              "  <script>\n",
              "    async function quickchart(key) {\n",
              "      const quickchartButtonEl =\n",
              "        document.querySelector('#' + key + ' button');\n",
              "      quickchartButtonEl.disabled = true;  // To prevent multiple clicks.\n",
              "      quickchartButtonEl.classList.add('colab-df-spinner');\n",
              "      try {\n",
              "        const charts = await google.colab.kernel.invokeFunction(\n",
              "            'suggestCharts', [key], {});\n",
              "      } catch (error) {\n",
              "        console.error('Error during call to suggestCharts:', error);\n",
              "      }\n",
              "      quickchartButtonEl.classList.remove('colab-df-spinner');\n",
              "      quickchartButtonEl.classList.add('colab-df-quickchart-complete');\n",
              "    }\n",
              "    (() => {\n",
              "      let quickchartButtonEl =\n",
              "        document.querySelector('#df-4c1769c9-e622-4afa-bff0-02292a5b33a4 button');\n",
              "      quickchartButtonEl.style.display =\n",
              "        google.colab.kernel.accessAllowed ? 'block' : 'none';\n",
              "    })();\n",
              "  </script>\n",
              "</div>\n",
              "    </div>\n",
              "  </div>\n"
            ]
          },
          "metadata": {},
          "execution_count": 14
        }
      ],
      "source": [
        "df1['Order Date'] = pd.to_datetime(df1['Order Date'], format='%d/%m/%Y')\n",
        "df1['Ship Date'] = pd.to_datetime(df1['Ship Date'], format='%d/%m/%Y')\n",
        "\n",
        "(df1[['Order Date', 'Ship Date']])"
      ]
    },
    {
      "cell_type": "markdown",
      "metadata": {
        "id": "ZY8K0mguomcM"
      },
      "source": [
        "9. Create a new column \"Processing time day\" to show number of days taken to ship an order and show your result in a dataframe format.\n",
        "\n",
        "*Hint: The duration starts as soon as the item has been ordered and ends once the order has successfully shipped.*"
      ]
    },
    {
      "cell_type": "code",
      "execution_count": 15,
      "metadata": {
        "colab": {
          "base_uri": "https://localhost:8080/",
          "height": 419
        },
        "id": "5TTdYAxaomcN",
        "outputId": "e3c287cf-e13f-47af-cb17-54a786ff6cc5"
      },
      "outputs": [
        {
          "output_type": "execute_result",
          "data": {
            "text/plain": [
              "     Order Date  Ship Date  Processing time day\n",
              "0    2016-11-08 2016-11-11                    3\n",
              "1    2016-11-08 2016-11-11                    3\n",
              "2    2016-06-12 2016-06-16                    4\n",
              "3    2015-10-11 2015-10-18                    7\n",
              "4    2015-10-11 2015-10-18                    7\n",
              "...         ...        ...                  ...\n",
              "8875 2016-08-13 2016-08-19                    6\n",
              "8876 2016-08-13 2016-08-19                    6\n",
              "8877 2017-09-17 2017-09-23                    6\n",
              "8878 2017-09-17 2017-09-23                    6\n",
              "8879 2015-03-23 2015-03-25                    2\n",
              "\n",
              "[8880 rows x 3 columns]"
            ],
            "text/html": [
              "\n",
              "  <div id=\"df-699ce9ba-7ded-42e0-85b9-8ec88bfa395e\" class=\"colab-df-container\">\n",
              "    <div>\n",
              "<style scoped>\n",
              "    .dataframe tbody tr th:only-of-type {\n",
              "        vertical-align: middle;\n",
              "    }\n",
              "\n",
              "    .dataframe tbody tr th {\n",
              "        vertical-align: top;\n",
              "    }\n",
              "\n",
              "    .dataframe thead th {\n",
              "        text-align: right;\n",
              "    }\n",
              "</style>\n",
              "<table border=\"1\" class=\"dataframe\">\n",
              "  <thead>\n",
              "    <tr style=\"text-align: right;\">\n",
              "      <th></th>\n",
              "      <th>Order Date</th>\n",
              "      <th>Ship Date</th>\n",
              "      <th>Processing time day</th>\n",
              "    </tr>\n",
              "  </thead>\n",
              "  <tbody>\n",
              "    <tr>\n",
              "      <th>0</th>\n",
              "      <td>2016-11-08</td>\n",
              "      <td>2016-11-11</td>\n",
              "      <td>3</td>\n",
              "    </tr>\n",
              "    <tr>\n",
              "      <th>1</th>\n",
              "      <td>2016-11-08</td>\n",
              "      <td>2016-11-11</td>\n",
              "      <td>3</td>\n",
              "    </tr>\n",
              "    <tr>\n",
              "      <th>2</th>\n",
              "      <td>2016-06-12</td>\n",
              "      <td>2016-06-16</td>\n",
              "      <td>4</td>\n",
              "    </tr>\n",
              "    <tr>\n",
              "      <th>3</th>\n",
              "      <td>2015-10-11</td>\n",
              "      <td>2015-10-18</td>\n",
              "      <td>7</td>\n",
              "    </tr>\n",
              "    <tr>\n",
              "      <th>4</th>\n",
              "      <td>2015-10-11</td>\n",
              "      <td>2015-10-18</td>\n",
              "      <td>7</td>\n",
              "    </tr>\n",
              "    <tr>\n",
              "      <th>...</th>\n",
              "      <td>...</td>\n",
              "      <td>...</td>\n",
              "      <td>...</td>\n",
              "    </tr>\n",
              "    <tr>\n",
              "      <th>8875</th>\n",
              "      <td>2016-08-13</td>\n",
              "      <td>2016-08-19</td>\n",
              "      <td>6</td>\n",
              "    </tr>\n",
              "    <tr>\n",
              "      <th>8876</th>\n",
              "      <td>2016-08-13</td>\n",
              "      <td>2016-08-19</td>\n",
              "      <td>6</td>\n",
              "    </tr>\n",
              "    <tr>\n",
              "      <th>8877</th>\n",
              "      <td>2017-09-17</td>\n",
              "      <td>2017-09-23</td>\n",
              "      <td>6</td>\n",
              "    </tr>\n",
              "    <tr>\n",
              "      <th>8878</th>\n",
              "      <td>2017-09-17</td>\n",
              "      <td>2017-09-23</td>\n",
              "      <td>6</td>\n",
              "    </tr>\n",
              "    <tr>\n",
              "      <th>8879</th>\n",
              "      <td>2015-03-23</td>\n",
              "      <td>2015-03-25</td>\n",
              "      <td>2</td>\n",
              "    </tr>\n",
              "  </tbody>\n",
              "</table>\n",
              "<p>8880 rows × 3 columns</p>\n",
              "</div>\n",
              "    <div class=\"colab-df-buttons\">\n",
              "\n",
              "  <div class=\"colab-df-container\">\n",
              "    <button class=\"colab-df-convert\" onclick=\"convertToInteractive('df-699ce9ba-7ded-42e0-85b9-8ec88bfa395e')\"\n",
              "            title=\"Convert this dataframe to an interactive table.\"\n",
              "            style=\"display:none;\">\n",
              "\n",
              "  <svg xmlns=\"http://www.w3.org/2000/svg\" height=\"24px\" viewBox=\"0 -960 960 960\">\n",
              "    <path d=\"M120-120v-720h720v720H120Zm60-500h600v-160H180v160Zm220 220h160v-160H400v160Zm0 220h160v-160H400v160ZM180-400h160v-160H180v160Zm440 0h160v-160H620v160ZM180-180h160v-160H180v160Zm440 0h160v-160H620v160Z\"/>\n",
              "  </svg>\n",
              "    </button>\n",
              "\n",
              "  <style>\n",
              "    .colab-df-container {\n",
              "      display:flex;\n",
              "      gap: 12px;\n",
              "    }\n",
              "\n",
              "    .colab-df-convert {\n",
              "      background-color: #E8F0FE;\n",
              "      border: none;\n",
              "      border-radius: 50%;\n",
              "      cursor: pointer;\n",
              "      display: none;\n",
              "      fill: #1967D2;\n",
              "      height: 32px;\n",
              "      padding: 0 0 0 0;\n",
              "      width: 32px;\n",
              "    }\n",
              "\n",
              "    .colab-df-convert:hover {\n",
              "      background-color: #E2EBFA;\n",
              "      box-shadow: 0px 1px 2px rgba(60, 64, 67, 0.3), 0px 1px 3px 1px rgba(60, 64, 67, 0.15);\n",
              "      fill: #174EA6;\n",
              "    }\n",
              "\n",
              "    .colab-df-buttons div {\n",
              "      margin-bottom: 4px;\n",
              "    }\n",
              "\n",
              "    [theme=dark] .colab-df-convert {\n",
              "      background-color: #3B4455;\n",
              "      fill: #D2E3FC;\n",
              "    }\n",
              "\n",
              "    [theme=dark] .colab-df-convert:hover {\n",
              "      background-color: #434B5C;\n",
              "      box-shadow: 0px 1px 3px 1px rgba(0, 0, 0, 0.15);\n",
              "      filter: drop-shadow(0px 1px 2px rgba(0, 0, 0, 0.3));\n",
              "      fill: #FFFFFF;\n",
              "    }\n",
              "  </style>\n",
              "\n",
              "    <script>\n",
              "      const buttonEl =\n",
              "        document.querySelector('#df-699ce9ba-7ded-42e0-85b9-8ec88bfa395e button.colab-df-convert');\n",
              "      buttonEl.style.display =\n",
              "        google.colab.kernel.accessAllowed ? 'block' : 'none';\n",
              "\n",
              "      async function convertToInteractive(key) {\n",
              "        const element = document.querySelector('#df-699ce9ba-7ded-42e0-85b9-8ec88bfa395e');\n",
              "        const dataTable =\n",
              "          await google.colab.kernel.invokeFunction('convertToInteractive',\n",
              "                                                    [key], {});\n",
              "        if (!dataTable) return;\n",
              "\n",
              "        const docLinkHtml = 'Like what you see? Visit the ' +\n",
              "          '<a target=\"_blank\" href=https://colab.research.google.com/notebooks/data_table.ipynb>data table notebook</a>'\n",
              "          + ' to learn more about interactive tables.';\n",
              "        element.innerHTML = '';\n",
              "        dataTable['output_type'] = 'display_data';\n",
              "        await google.colab.output.renderOutput(dataTable, element);\n",
              "        const docLink = document.createElement('div');\n",
              "        docLink.innerHTML = docLinkHtml;\n",
              "        element.appendChild(docLink);\n",
              "      }\n",
              "    </script>\n",
              "  </div>\n",
              "\n",
              "\n",
              "<div id=\"df-eaf2d10f-0921-413c-9d08-4bde6af35a83\">\n",
              "  <button class=\"colab-df-quickchart\" onclick=\"quickchart('df-eaf2d10f-0921-413c-9d08-4bde6af35a83')\"\n",
              "            title=\"Suggest charts\"\n",
              "            style=\"display:none;\">\n",
              "\n",
              "<svg xmlns=\"http://www.w3.org/2000/svg\" height=\"24px\"viewBox=\"0 0 24 24\"\n",
              "     width=\"24px\">\n",
              "    <g>\n",
              "        <path d=\"M19 3H5c-1.1 0-2 .9-2 2v14c0 1.1.9 2 2 2h14c1.1 0 2-.9 2-2V5c0-1.1-.9-2-2-2zM9 17H7v-7h2v7zm4 0h-2V7h2v10zm4 0h-2v-4h2v4z\"/>\n",
              "    </g>\n",
              "</svg>\n",
              "  </button>\n",
              "\n",
              "<style>\n",
              "  .colab-df-quickchart {\n",
              "      --bg-color: #E8F0FE;\n",
              "      --fill-color: #1967D2;\n",
              "      --hover-bg-color: #E2EBFA;\n",
              "      --hover-fill-color: #174EA6;\n",
              "      --disabled-fill-color: #AAA;\n",
              "      --disabled-bg-color: #DDD;\n",
              "  }\n",
              "\n",
              "  [theme=dark] .colab-df-quickchart {\n",
              "      --bg-color: #3B4455;\n",
              "      --fill-color: #D2E3FC;\n",
              "      --hover-bg-color: #434B5C;\n",
              "      --hover-fill-color: #FFFFFF;\n",
              "      --disabled-bg-color: #3B4455;\n",
              "      --disabled-fill-color: #666;\n",
              "  }\n",
              "\n",
              "  .colab-df-quickchart {\n",
              "    background-color: var(--bg-color);\n",
              "    border: none;\n",
              "    border-radius: 50%;\n",
              "    cursor: pointer;\n",
              "    display: none;\n",
              "    fill: var(--fill-color);\n",
              "    height: 32px;\n",
              "    padding: 0;\n",
              "    width: 32px;\n",
              "  }\n",
              "\n",
              "  .colab-df-quickchart:hover {\n",
              "    background-color: var(--hover-bg-color);\n",
              "    box-shadow: 0 1px 2px rgba(60, 64, 67, 0.3), 0 1px 3px 1px rgba(60, 64, 67, 0.15);\n",
              "    fill: var(--button-hover-fill-color);\n",
              "  }\n",
              "\n",
              "  .colab-df-quickchart-complete:disabled,\n",
              "  .colab-df-quickchart-complete:disabled:hover {\n",
              "    background-color: var(--disabled-bg-color);\n",
              "    fill: var(--disabled-fill-color);\n",
              "    box-shadow: none;\n",
              "  }\n",
              "\n",
              "  .colab-df-spinner {\n",
              "    border: 2px solid var(--fill-color);\n",
              "    border-color: transparent;\n",
              "    border-bottom-color: var(--fill-color);\n",
              "    animation:\n",
              "      spin 1s steps(1) infinite;\n",
              "  }\n",
              "\n",
              "  @keyframes spin {\n",
              "    0% {\n",
              "      border-color: transparent;\n",
              "      border-bottom-color: var(--fill-color);\n",
              "      border-left-color: var(--fill-color);\n",
              "    }\n",
              "    20% {\n",
              "      border-color: transparent;\n",
              "      border-left-color: var(--fill-color);\n",
              "      border-top-color: var(--fill-color);\n",
              "    }\n",
              "    30% {\n",
              "      border-color: transparent;\n",
              "      border-left-color: var(--fill-color);\n",
              "      border-top-color: var(--fill-color);\n",
              "      border-right-color: var(--fill-color);\n",
              "    }\n",
              "    40% {\n",
              "      border-color: transparent;\n",
              "      border-right-color: var(--fill-color);\n",
              "      border-top-color: var(--fill-color);\n",
              "    }\n",
              "    60% {\n",
              "      border-color: transparent;\n",
              "      border-right-color: var(--fill-color);\n",
              "    }\n",
              "    80% {\n",
              "      border-color: transparent;\n",
              "      border-right-color: var(--fill-color);\n",
              "      border-bottom-color: var(--fill-color);\n",
              "    }\n",
              "    90% {\n",
              "      border-color: transparent;\n",
              "      border-bottom-color: var(--fill-color);\n",
              "    }\n",
              "  }\n",
              "</style>\n",
              "\n",
              "  <script>\n",
              "    async function quickchart(key) {\n",
              "      const quickchartButtonEl =\n",
              "        document.querySelector('#' + key + ' button');\n",
              "      quickchartButtonEl.disabled = true;  // To prevent multiple clicks.\n",
              "      quickchartButtonEl.classList.add('colab-df-spinner');\n",
              "      try {\n",
              "        const charts = await google.colab.kernel.invokeFunction(\n",
              "            'suggestCharts', [key], {});\n",
              "      } catch (error) {\n",
              "        console.error('Error during call to suggestCharts:', error);\n",
              "      }\n",
              "      quickchartButtonEl.classList.remove('colab-df-spinner');\n",
              "      quickchartButtonEl.classList.add('colab-df-quickchart-complete');\n",
              "    }\n",
              "    (() => {\n",
              "      let quickchartButtonEl =\n",
              "        document.querySelector('#df-eaf2d10f-0921-413c-9d08-4bde6af35a83 button');\n",
              "      quickchartButtonEl.style.display =\n",
              "        google.colab.kernel.accessAllowed ? 'block' : 'none';\n",
              "    })();\n",
              "  </script>\n",
              "</div>\n",
              "    </div>\n",
              "  </div>\n"
            ]
          },
          "metadata": {},
          "execution_count": 15
        }
      ],
      "source": [
        "# write your code here\n",
        "df1['Processing time day'] = (df1['Ship Date'] - df1['Order Date']).dt.days\n",
        "df1[['Order Date', 'Ship Date', 'Processing time day']]"
      ]
    },
    {
      "cell_type": "markdown",
      "metadata": {
        "id": "04HwHYmromcO"
      },
      "source": [
        "10. Based on the result in 9.\n",
        "- 10.1 How many orders are there that take more than 5 days to process?\n",
        "- 10.2 Show the top 5 rows (expected output should contain these columns: Order ID, Order Date, Ship Date, Processing time day, Quantity)\n",
        "- 10.3 Plot the histogram based on the column Quantity\n",
        "\n",
        "*Note: please create additional cells to answer 10.2 - 10.3*"
      ]
    },
    {
      "cell_type": "code",
      "execution_count": 16,
      "metadata": {
        "colab": {
          "base_uri": "https://localhost:8080/"
        },
        "id": "xYqjZGKVomcP",
        "outputId": "73680718-1dca-4fa7-8bf5-16f579dddaa7"
      },
      "outputs": [
        {
          "output_type": "stream",
          "name": "stdout",
          "text": [
            "Number of orders that take more than 5 days: 1656\n"
          ]
        }
      ],
      "source": [
        "print(f\"Number of orders that take more than 5 days: {df1[df1['Processing time day'] > 5]['Order Date'].count()}\")"
      ]
    },
    {
      "cell_type": "code",
      "source": [
        "df1[['Order ID', 'Order Date', 'Ship Date', 'Processing time day', 'Quantity']].head()"
      ],
      "metadata": {
        "colab": {
          "base_uri": "https://localhost:8080/",
          "height": 204
        },
        "id": "KqErTe739duM",
        "outputId": "45484200-d1fa-4823-a721-ea12590b880e"
      },
      "execution_count": 17,
      "outputs": [
        {
          "output_type": "execute_result",
          "data": {
            "text/plain": [
              "         Order ID Order Date  Ship Date  Processing time day  Quantity\n",
              "0  CA-2016-152156 2016-11-08 2016-11-11                    3         2\n",
              "1  CA-2016-152156 2016-11-08 2016-11-11                    3         3\n",
              "2  CA-2016-138688 2016-06-12 2016-06-16                    4         2\n",
              "3  US-2015-108966 2015-10-11 2015-10-18                    7         5\n",
              "4  US-2015-108966 2015-10-11 2015-10-18                    7         2"
            ],
            "text/html": [
              "\n",
              "  <div id=\"df-1a5d5905-aa95-4d06-8eb1-6ed0cd1ddf13\" class=\"colab-df-container\">\n",
              "    <div>\n",
              "<style scoped>\n",
              "    .dataframe tbody tr th:only-of-type {\n",
              "        vertical-align: middle;\n",
              "    }\n",
              "\n",
              "    .dataframe tbody tr th {\n",
              "        vertical-align: top;\n",
              "    }\n",
              "\n",
              "    .dataframe thead th {\n",
              "        text-align: right;\n",
              "    }\n",
              "</style>\n",
              "<table border=\"1\" class=\"dataframe\">\n",
              "  <thead>\n",
              "    <tr style=\"text-align: right;\">\n",
              "      <th></th>\n",
              "      <th>Order ID</th>\n",
              "      <th>Order Date</th>\n",
              "      <th>Ship Date</th>\n",
              "      <th>Processing time day</th>\n",
              "      <th>Quantity</th>\n",
              "    </tr>\n",
              "  </thead>\n",
              "  <tbody>\n",
              "    <tr>\n",
              "      <th>0</th>\n",
              "      <td>CA-2016-152156</td>\n",
              "      <td>2016-11-08</td>\n",
              "      <td>2016-11-11</td>\n",
              "      <td>3</td>\n",
              "      <td>2</td>\n",
              "    </tr>\n",
              "    <tr>\n",
              "      <th>1</th>\n",
              "      <td>CA-2016-152156</td>\n",
              "      <td>2016-11-08</td>\n",
              "      <td>2016-11-11</td>\n",
              "      <td>3</td>\n",
              "      <td>3</td>\n",
              "    </tr>\n",
              "    <tr>\n",
              "      <th>2</th>\n",
              "      <td>CA-2016-138688</td>\n",
              "      <td>2016-06-12</td>\n",
              "      <td>2016-06-16</td>\n",
              "      <td>4</td>\n",
              "      <td>2</td>\n",
              "    </tr>\n",
              "    <tr>\n",
              "      <th>3</th>\n",
              "      <td>US-2015-108966</td>\n",
              "      <td>2015-10-11</td>\n",
              "      <td>2015-10-18</td>\n",
              "      <td>7</td>\n",
              "      <td>5</td>\n",
              "    </tr>\n",
              "    <tr>\n",
              "      <th>4</th>\n",
              "      <td>US-2015-108966</td>\n",
              "      <td>2015-10-11</td>\n",
              "      <td>2015-10-18</td>\n",
              "      <td>7</td>\n",
              "      <td>2</td>\n",
              "    </tr>\n",
              "  </tbody>\n",
              "</table>\n",
              "</div>\n",
              "    <div class=\"colab-df-buttons\">\n",
              "\n",
              "  <div class=\"colab-df-container\">\n",
              "    <button class=\"colab-df-convert\" onclick=\"convertToInteractive('df-1a5d5905-aa95-4d06-8eb1-6ed0cd1ddf13')\"\n",
              "            title=\"Convert this dataframe to an interactive table.\"\n",
              "            style=\"display:none;\">\n",
              "\n",
              "  <svg xmlns=\"http://www.w3.org/2000/svg\" height=\"24px\" viewBox=\"0 -960 960 960\">\n",
              "    <path d=\"M120-120v-720h720v720H120Zm60-500h600v-160H180v160Zm220 220h160v-160H400v160Zm0 220h160v-160H400v160ZM180-400h160v-160H180v160Zm440 0h160v-160H620v160ZM180-180h160v-160H180v160Zm440 0h160v-160H620v160Z\"/>\n",
              "  </svg>\n",
              "    </button>\n",
              "\n",
              "  <style>\n",
              "    .colab-df-container {\n",
              "      display:flex;\n",
              "      gap: 12px;\n",
              "    }\n",
              "\n",
              "    .colab-df-convert {\n",
              "      background-color: #E8F0FE;\n",
              "      border: none;\n",
              "      border-radius: 50%;\n",
              "      cursor: pointer;\n",
              "      display: none;\n",
              "      fill: #1967D2;\n",
              "      height: 32px;\n",
              "      padding: 0 0 0 0;\n",
              "      width: 32px;\n",
              "    }\n",
              "\n",
              "    .colab-df-convert:hover {\n",
              "      background-color: #E2EBFA;\n",
              "      box-shadow: 0px 1px 2px rgba(60, 64, 67, 0.3), 0px 1px 3px 1px rgba(60, 64, 67, 0.15);\n",
              "      fill: #174EA6;\n",
              "    }\n",
              "\n",
              "    .colab-df-buttons div {\n",
              "      margin-bottom: 4px;\n",
              "    }\n",
              "\n",
              "    [theme=dark] .colab-df-convert {\n",
              "      background-color: #3B4455;\n",
              "      fill: #D2E3FC;\n",
              "    }\n",
              "\n",
              "    [theme=dark] .colab-df-convert:hover {\n",
              "      background-color: #434B5C;\n",
              "      box-shadow: 0px 1px 3px 1px rgba(0, 0, 0, 0.15);\n",
              "      filter: drop-shadow(0px 1px 2px rgba(0, 0, 0, 0.3));\n",
              "      fill: #FFFFFF;\n",
              "    }\n",
              "  </style>\n",
              "\n",
              "    <script>\n",
              "      const buttonEl =\n",
              "        document.querySelector('#df-1a5d5905-aa95-4d06-8eb1-6ed0cd1ddf13 button.colab-df-convert');\n",
              "      buttonEl.style.display =\n",
              "        google.colab.kernel.accessAllowed ? 'block' : 'none';\n",
              "\n",
              "      async function convertToInteractive(key) {\n",
              "        const element = document.querySelector('#df-1a5d5905-aa95-4d06-8eb1-6ed0cd1ddf13');\n",
              "        const dataTable =\n",
              "          await google.colab.kernel.invokeFunction('convertToInteractive',\n",
              "                                                    [key], {});\n",
              "        if (!dataTable) return;\n",
              "\n",
              "        const docLinkHtml = 'Like what you see? Visit the ' +\n",
              "          '<a target=\"_blank\" href=https://colab.research.google.com/notebooks/data_table.ipynb>data table notebook</a>'\n",
              "          + ' to learn more about interactive tables.';\n",
              "        element.innerHTML = '';\n",
              "        dataTable['output_type'] = 'display_data';\n",
              "        await google.colab.output.renderOutput(dataTable, element);\n",
              "        const docLink = document.createElement('div');\n",
              "        docLink.innerHTML = docLinkHtml;\n",
              "        element.appendChild(docLink);\n",
              "      }\n",
              "    </script>\n",
              "  </div>\n",
              "\n",
              "\n",
              "<div id=\"df-9e9fc9f3-fed3-4570-b471-bb904e5c79ff\">\n",
              "  <button class=\"colab-df-quickchart\" onclick=\"quickchart('df-9e9fc9f3-fed3-4570-b471-bb904e5c79ff')\"\n",
              "            title=\"Suggest charts\"\n",
              "            style=\"display:none;\">\n",
              "\n",
              "<svg xmlns=\"http://www.w3.org/2000/svg\" height=\"24px\"viewBox=\"0 0 24 24\"\n",
              "     width=\"24px\">\n",
              "    <g>\n",
              "        <path d=\"M19 3H5c-1.1 0-2 .9-2 2v14c0 1.1.9 2 2 2h14c1.1 0 2-.9 2-2V5c0-1.1-.9-2-2-2zM9 17H7v-7h2v7zm4 0h-2V7h2v10zm4 0h-2v-4h2v4z\"/>\n",
              "    </g>\n",
              "</svg>\n",
              "  </button>\n",
              "\n",
              "<style>\n",
              "  .colab-df-quickchart {\n",
              "      --bg-color: #E8F0FE;\n",
              "      --fill-color: #1967D2;\n",
              "      --hover-bg-color: #E2EBFA;\n",
              "      --hover-fill-color: #174EA6;\n",
              "      --disabled-fill-color: #AAA;\n",
              "      --disabled-bg-color: #DDD;\n",
              "  }\n",
              "\n",
              "  [theme=dark] .colab-df-quickchart {\n",
              "      --bg-color: #3B4455;\n",
              "      --fill-color: #D2E3FC;\n",
              "      --hover-bg-color: #434B5C;\n",
              "      --hover-fill-color: #FFFFFF;\n",
              "      --disabled-bg-color: #3B4455;\n",
              "      --disabled-fill-color: #666;\n",
              "  }\n",
              "\n",
              "  .colab-df-quickchart {\n",
              "    background-color: var(--bg-color);\n",
              "    border: none;\n",
              "    border-radius: 50%;\n",
              "    cursor: pointer;\n",
              "    display: none;\n",
              "    fill: var(--fill-color);\n",
              "    height: 32px;\n",
              "    padding: 0;\n",
              "    width: 32px;\n",
              "  }\n",
              "\n",
              "  .colab-df-quickchart:hover {\n",
              "    background-color: var(--hover-bg-color);\n",
              "    box-shadow: 0 1px 2px rgba(60, 64, 67, 0.3), 0 1px 3px 1px rgba(60, 64, 67, 0.15);\n",
              "    fill: var(--button-hover-fill-color);\n",
              "  }\n",
              "\n",
              "  .colab-df-quickchart-complete:disabled,\n",
              "  .colab-df-quickchart-complete:disabled:hover {\n",
              "    background-color: var(--disabled-bg-color);\n",
              "    fill: var(--disabled-fill-color);\n",
              "    box-shadow: none;\n",
              "  }\n",
              "\n",
              "  .colab-df-spinner {\n",
              "    border: 2px solid var(--fill-color);\n",
              "    border-color: transparent;\n",
              "    border-bottom-color: var(--fill-color);\n",
              "    animation:\n",
              "      spin 1s steps(1) infinite;\n",
              "  }\n",
              "\n",
              "  @keyframes spin {\n",
              "    0% {\n",
              "      border-color: transparent;\n",
              "      border-bottom-color: var(--fill-color);\n",
              "      border-left-color: var(--fill-color);\n",
              "    }\n",
              "    20% {\n",
              "      border-color: transparent;\n",
              "      border-left-color: var(--fill-color);\n",
              "      border-top-color: var(--fill-color);\n",
              "    }\n",
              "    30% {\n",
              "      border-color: transparent;\n",
              "      border-left-color: var(--fill-color);\n",
              "      border-top-color: var(--fill-color);\n",
              "      border-right-color: var(--fill-color);\n",
              "    }\n",
              "    40% {\n",
              "      border-color: transparent;\n",
              "      border-right-color: var(--fill-color);\n",
              "      border-top-color: var(--fill-color);\n",
              "    }\n",
              "    60% {\n",
              "      border-color: transparent;\n",
              "      border-right-color: var(--fill-color);\n",
              "    }\n",
              "    80% {\n",
              "      border-color: transparent;\n",
              "      border-right-color: var(--fill-color);\n",
              "      border-bottom-color: var(--fill-color);\n",
              "    }\n",
              "    90% {\n",
              "      border-color: transparent;\n",
              "      border-bottom-color: var(--fill-color);\n",
              "    }\n",
              "  }\n",
              "</style>\n",
              "\n",
              "  <script>\n",
              "    async function quickchart(key) {\n",
              "      const quickchartButtonEl =\n",
              "        document.querySelector('#' + key + ' button');\n",
              "      quickchartButtonEl.disabled = true;  // To prevent multiple clicks.\n",
              "      quickchartButtonEl.classList.add('colab-df-spinner');\n",
              "      try {\n",
              "        const charts = await google.colab.kernel.invokeFunction(\n",
              "            'suggestCharts', [key], {});\n",
              "      } catch (error) {\n",
              "        console.error('Error during call to suggestCharts:', error);\n",
              "      }\n",
              "      quickchartButtonEl.classList.remove('colab-df-spinner');\n",
              "      quickchartButtonEl.classList.add('colab-df-quickchart-complete');\n",
              "    }\n",
              "    (() => {\n",
              "      let quickchartButtonEl =\n",
              "        document.querySelector('#df-9e9fc9f3-fed3-4570-b471-bb904e5c79ff button');\n",
              "      quickchartButtonEl.style.display =\n",
              "        google.colab.kernel.accessAllowed ? 'block' : 'none';\n",
              "    })();\n",
              "  </script>\n",
              "</div>\n",
              "    </div>\n",
              "  </div>\n"
            ]
          },
          "metadata": {},
          "execution_count": 17
        }
      ]
    },
    {
      "cell_type": "code",
      "source": [
        "plt.hist(df1['Quantity'], bins=30, color='skyblue', edgecolor='black')\n",
        "\n",
        "plt.xlabel('Quantity')\n",
        "plt.ylabel('Count')\n",
        "plt.title('Quantity Histogram')\n",
        "\n",
        "plt.show()"
      ],
      "metadata": {
        "colab": {
          "base_uri": "https://localhost:8080/",
          "height": 472
        },
        "id": "5dJdV1qc-PMP",
        "outputId": "4797c73f-55b7-41af-cf4a-c2bba81eec34"
      },
      "execution_count": 18,
      "outputs": [
        {
          "output_type": "display_data",
          "data": {
            "text/plain": [
              "<Figure size 640x480 with 1 Axes>"
            ],
            "image/png": "[encoded data removed]"
          },
          "metadata": {}
        }
      ]
    },
    {
      "cell_type": "markdown",
      "metadata": {
        "id": "WoH2K0-zomcP"
      },
      "source": [
        "[BONUS 20 pts] Determine the percentage of customers who:\n",
        "- B1)returned the product once\n",
        "- B2) returned the product at least once\n",
        "- B3) never returned the product\n",
        "- Finally, Plot a comparison of B2 and B3\n",
        "\n",
        "*Note: please create additional cells to answer the above points*"
      ]
    },
    {
      "cell_type": "code",
      "execution_count": 181,
      "metadata": {
        "id": "ulmp4KfiomcP",
        "colab": {
          "base_uri": "https://localhost:8080/"
        },
        "outputId": "56811577-37a5-4d72-8823-b23a5d6c5083"
      },
      "outputs": [
        {
          "output_type": "stream",
          "name": "stdout",
          "text": [
            "186 People\n",
            "23.574144486692013\n"
          ]
        }
      ],
      "source": [
        "\n",
        "df1.drop_duplicates(subset='Order ID', keep='first', inplace=True)\n",
        "mergeDf = pd.merge(df1, df3, on='Order ID', how='left')\n",
        "mergeDf['Returned'].fillna(0, inplace=True)\n",
        "\n",
        "# Replace 'yes' with 1 and 'no' with 0 in the 'Returned' column\n",
        "mergeDf['Returned'] = mergeDf['Returned'].replace({'yes': 1, 'Yes' :1})\n",
        "mergeDf['Returned'] = pd.to_numeric(mergeDf['Returned'])\n",
        "\n",
        "returnCounts = mergeDf.groupby('Customer ID')['Returned'].sum()\n",
        "totalCustomer = len(returnCounts)\n",
        "returnOnce = (returnCounts == 1).sum()\n",
        "print(str(returnOnce) + ' People')\n",
        "print((returnOnce/totalCustomer)*100)\n"
      ]
    },
    {
      "cell_type": "code",
      "source": [
        "returnAtLeastOne = (returnCounts >= 1).sum()\n",
        "print(str(returnAtLeastOne) + ' People')\n",
        "print((returnAtLeastOne/totalCustomer)*100)"
      ],
      "metadata": {
        "colab": {
          "base_uri": "https://localhost:8080/"
        },
        "id": "2Gi8pwlxriQZ",
        "outputId": "7b097c97-f628-4bf7-9343-4edcb74e1a48"
      },
      "execution_count": 183,
      "outputs": [
        {
          "output_type": "stream",
          "name": "stdout",
          "text": [
            "222 People\n",
            "28.13688212927757\n"
          ]
        }
      ]
    },
    {
      "cell_type": "code",
      "source": [
        "noReturn = (returnCounts == 0).sum()\n",
        "print(str(noReturn) + ' People')\n",
        "print((noReturn/totalCustomer)*100)"
      ],
      "metadata": {
        "colab": {
          "base_uri": "https://localhost:8080/"
        },
        "id": "84FI7bQKrwd_",
        "outputId": "73970586-79e5-4db5-eaa5-771f16e05be5"
      },
      "execution_count": 184,
      "outputs": [
        {
          "output_type": "stream",
          "name": "stdout",
          "text": [
            "567 People\n",
            "71.86311787072243\n"
          ]
        }
      ]
    },
    {
      "cell_type": "code",
      "source": [
        "y = np.array([returnAtLeastOne, noReturn])\n",
        "myLabels = ['Return', 'Not Return']\n",
        "plt.pie(y, labels = myLabels, autopct='%.2f')\n",
        "plt.show()"
      ],
      "metadata": {
        "colab": {
          "base_uri": "https://localhost:8080/",
          "height": 406
        },
        "id": "7NqOIBEM4zic",
        "outputId": "06c4d356-0066-4618-f290-34b5c60b2426"
      },
      "execution_count": 187,
      "outputs": [
        {
          "output_type": "display_data",
          "data": {
            "text/plain": [
              "<Figure size 640x480 with 1 Axes>"
            ],
            "image/png": "[encoded data removed]"
          },
          "metadata": {}
        }
      ]
    }
  ],
  "metadata": {
    "kernelspec": {
      "display_name": "Python 3.11.1 64-bit",
      "language": "python",
      "name": "python3"
    },
    "language_info": {
      "name": "python",
      "version": "3.11.1"
    },
    "orig_nbformat": 4,
    "vscode": {
      "interpreter": {
        "hash": "aee8b7b246df8f9039afb4144a1f6fd8d2ca17a180786b69acc140d282b71a49"
      }
    },
    "colab": {
      "provenance": []
    }
  },
  "nbformat": 4,
  "nbformat_minor": 0
}